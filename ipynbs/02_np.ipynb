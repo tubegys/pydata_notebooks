{
 "cells": [
  {
   "cell_type": "markdown",
   "metadata": {},
   "source": [
    "# NumPy"
   ]
  },
  {
   "cell_type": "markdown",
   "metadata": {},
   "source": [
    "* ndarray 多维数组"
   ]
  },
  {
   "cell_type": "code",
   "execution_count": 1,
   "metadata": {
    "collapsed": false
   },
   "outputs": [
    {
     "name": "stdout",
     "output_type": "stream",
     "text": [
      "[[ 0.10902339  0.54266862  0.18187775]\n",
      " [ 0.83086593  0.1864485   0.23520957]]\n",
      "<class 'numpy.ndarray'>\n"
     ]
    }
   ],
   "source": [
    "import numpy as np\n",
    "\n",
    "# 生成指定维度的随机多维数据\n",
    "data = np.random.rand(2, 3)\n",
    "print(data)\n",
    "print(type(data))"
   ]
  },
  {
   "cell_type": "markdown",
   "metadata": {},
   "source": [
    "* ndim, shape 和 dtype 属性"
   ]
  },
  {
   "cell_type": "code",
   "execution_count": 2,
   "metadata": {
    "collapsed": false
   },
   "outputs": [
    {
     "name": "stdout",
     "output_type": "stream",
     "text": [
      "维度个数 2\n",
      "各维度大小:  (2, 3)\n",
      "数据类型:  float64\n"
     ]
    }
   ],
   "source": [
    "print('维度个数', data.ndim)\n",
    "print('各维度大小: ', data.shape)\n",
    "print('数据类型: ', data.dtype)"
   ]
  },
  {
   "cell_type": "markdown",
   "metadata": {},
   "source": [
    "* 创建ndarray"
   ]
  },
  {
   "cell_type": "code",
   "execution_count": 3,
   "metadata": {
    "collapsed": false
   },
   "outputs": [
    {
     "name": "stdout",
     "output_type": "stream",
     "text": [
      "[0 1 2 3 4 5 6 7 8 9]\n",
      "(10,)\n",
      "1\n"
     ]
    }
   ],
   "source": [
    "# list转换为 ndarray\n",
    "l = range(10)\n",
    "data = np.array(l)\n",
    "print(data)\n",
    "print(data.shape)\n",
    "print(data.ndim)"
   ]
  },
  {
   "cell_type": "code",
   "execution_count": 4,
   "metadata": {
    "collapsed": false
   },
   "outputs": [
    {
     "name": "stdout",
     "output_type": "stream",
     "text": [
      "[[0 1 2 3 4 5 6 7 8 9]\n",
      " [0 1 2 3 4 5 6 7 8 9]]\n",
      "(2, 10)\n"
     ]
    }
   ],
   "source": [
    "# 嵌套序列转换为ndarray\n",
    "l2 = [range(10), range(10)]\n",
    "data = np.array(l2)\n",
    "print(data)\n",
    "print(data.shape)"
   ]
  },
  {
   "cell_type": "code",
   "execution_count": 5,
   "metadata": {
    "collapsed": false
   },
   "outputs": [
    {
     "name": "stdout",
     "output_type": "stream",
     "text": [
      "[[ 0.  0.  0.  0.]\n",
      " [ 0.  0.  0.  0.]\n",
      " [ 0.  0.  0.  0.]]\n",
      "-------------\n",
      "[[ 1.  1.  1.]\n",
      " [ 1.  1.  1.]]\n",
      "-------------\n",
      "[[  4.94065646e-324   9.88131292e-324   1.48219694e-323]\n",
      " [  1.97626258e-323   2.47032823e-323   2.96439388e-323]\n",
      " [  3.45845952e-323   3.95252517e-323   4.44659081e-323]]\n",
      "-------------\n",
      "[[1 2 3]\n",
      " [4 5 6]\n",
      " [7 8 9]]\n"
     ]
    }
   ],
   "source": [
    "# np.zeros, np.ones 和 np.empty\n",
    "\n",
    "# np.zeros\n",
    "zeros_arr = np.zeros((3, 4))\n",
    "\n",
    "# np.ones\n",
    "ones_arr = np.ones((2, 3))\n",
    "\n",
    "# np.empty\n",
    "empty_arr = np.empty((3, 3))\n",
    "\n",
    "# np.empty 指定数据类型\n",
    "empty_int_arr = np.empty((3, 3), int)\n",
    "\n",
    "print(zeros_arr)\n",
    "print('-------------')\n",
    "print(ones_arr)\n",
    "print('-------------')\n",
    "print(empty_arr)\n",
    "print('-------------')\n",
    "print(empty_int_arr)"
   ]
  },
  {
   "cell_type": "code",
   "execution_count": 6,
   "metadata": {
    "collapsed": false
   },
   "outputs": [
    {
     "name": "stdout",
     "output_type": "stream",
     "text": [
      "[0 1 2 3 4 5 6 7 8 9]\n"
     ]
    }
   ],
   "source": [
    "# np.arange()\n",
    "print(np.arange(10))"
   ]
  },
  {
   "cell_type": "markdown",
   "metadata": {},
   "source": [
    "* ndarray数据类型"
   ]
  },
  {
   "cell_type": "code",
   "execution_count": 7,
   "metadata": {
    "collapsed": false
   },
   "outputs": [
    {
     "name": "stdout",
     "output_type": "stream",
     "text": [
      "[[ 0.  0.  0.  0.]\n",
      " [ 0.  0.  0.  0.]\n",
      " [ 0.  0.  0.  0.]]\n",
      "float64\n",
      "[[0 0 0 0]\n",
      " [0 0 0 0]\n",
      " [0 0 0 0]]\n",
      "int32\n"
     ]
    }
   ],
   "source": [
    "zeros_float_arr = np.zeros((3, 4), dtype=np.float64)\n",
    "print(zeros_float_arr)\n",
    "print(zeros_float_arr.dtype)\n",
    "\n",
    "# astype转换数据类型\n",
    "zeros_int_arr = zeros_float_arr.astype(np.int32)\n",
    "print(zeros_int_arr)\n",
    "print(zeros_int_arr.dtype)"
   ]
  },
  {
   "cell_type": "markdown",
   "metadata": {
    "collapsed": true
   },
   "source": [
    "* 矢量化 (vectorization)"
   ]
  },
  {
   "cell_type": "code",
   "execution_count": 8,
   "metadata": {
    "collapsed": false
   },
   "outputs": [
    {
     "name": "stdout",
     "output_type": "stream",
     "text": [
      "元素相乘：\n",
      "[[ 1  4  9]\n",
      " [16 25 36]]\n",
      "矩阵相加：\n",
      "[[ 2  4  6]\n",
      " [ 8 10 12]]\n"
     ]
    }
   ],
   "source": [
    "# 矢量与矢量运算\n",
    "arr = np.array([[1, 2, 3],\n",
    "                [4, 5, 6]])\n",
    "\n",
    "print(\"元素相乘：\")\n",
    "print(arr * arr)\n",
    "\n",
    "print(\"矩阵相加：\")\n",
    "print(arr + arr)"
   ]
  },
  {
   "cell_type": "code",
   "execution_count": 9,
   "metadata": {
    "collapsed": false
   },
   "outputs": [
    {
     "name": "stdout",
     "output_type": "stream",
     "text": [
      "[[ 1.          0.5         0.33333333]\n",
      " [ 0.25        0.2         0.16666667]]\n",
      "[[  2.   4.   6.]\n",
      " [  8.  10.  12.]]\n"
     ]
    }
   ],
   "source": [
    "# 矢量与标量运算\n",
    "print(1. / arr)\n",
    "print(2. * arr)"
   ]
  },
  {
   "cell_type": "markdown",
   "metadata": {},
   "source": [
    "* 索引与切片"
   ]
  },
  {
   "cell_type": "code",
   "execution_count": 10,
   "metadata": {
    "collapsed": false
   },
   "outputs": [
    {
     "name": "stdout",
     "output_type": "stream",
     "text": [
      "[0 1 2 3 4 5 6 7 8 9]\n",
      "[2 3 4]\n"
     ]
    }
   ],
   "source": [
    "# 一维数组\n",
    "arr1 = np.arange(10)\n",
    "print(arr1)\n",
    "\n",
    "print(arr1[2:5])"
   ]
  },
  {
   "cell_type": "code",
   "execution_count": 11,
   "metadata": {
    "collapsed": false
   },
   "outputs": [
    {
     "name": "stdout",
     "output_type": "stream",
     "text": [
      "[[ 0  1  2  3]\n",
      " [ 4  5  6  7]\n",
      " [ 8  9 10 11]]\n"
     ]
    }
   ],
   "source": [
    "# 多维数组\n",
    "arr2 = np.arange(12).reshape(3,4)\n",
    "print(arr2)"
   ]
  },
  {
   "cell_type": "code",
   "execution_count": 12,
   "metadata": {
    "collapsed": false
   },
   "outputs": [
    {
     "name": "stdout",
     "output_type": "stream",
     "text": [
      "[4 5 6 7]\n",
      "[[2 3]\n",
      " [6 7]]\n",
      "[[ 1  2]\n",
      " [ 5  6]\n",
      " [ 9 10]]\n"
     ]
    }
   ],
   "source": [
    "print(arr2[1])\n",
    "\n",
    "print(arr2[0:2, 2:])\n",
    "\n",
    "print(arr2[:, 1:3])"
   ]
  },
  {
   "cell_type": "code",
   "execution_count": 13,
   "metadata": {
    "collapsed": false
   },
   "outputs": [
    {
     "name": "stdout",
     "output_type": "stream",
     "text": [
      "[[ 0.22629326  0.52993859  0.36597228]\n",
      " [ 0.2286688   0.25178955  0.85513878]\n",
      " [ 0.25505027  0.63624895  0.90562835]]\n",
      "[ 0.2286688   0.85513878  0.90562835]\n"
     ]
    }
   ],
   "source": [
    "# 条件索引\n",
    "\n",
    "# 找出 data_arr 中 2015年后的数据\n",
    "data_arr = np.random.rand(3,3)\n",
    "print(data_arr)\n",
    "\n",
    "year_arr = np.array([[2000, 2001, 2000],\n",
    "                     [2005, 2002, 2009],\n",
    "                     [2001, 2003, 2010]])\n",
    "\n",
    "#is_year_after_2005 = year_arr >= 2005\n",
    "#print is_year_after_2005, is_year_after_2005.dtype\n",
    "\n",
    "#filtered_arr = data_arr[is_year_after_2005]\n",
    "\n",
    "filtered_arr = data_arr[year_arr >= 2005]\n",
    "print(filtered_arr)"
   ]
  },
  {
   "cell_type": "code",
   "execution_count": 14,
   "metadata": {
    "collapsed": false
   },
   "outputs": [
    {
     "name": "stdout",
     "output_type": "stream",
     "text": [
      "[ 0.22629326  0.36597228  0.25178955]\n"
     ]
    }
   ],
   "source": [
    "# 多个条件\n",
    "filtered_arr = data_arr[(year_arr <= 2005) & (year_arr % 2 == 0)]\n",
    "print(filtered_arr)"
   ]
  },
  {
   "cell_type": "markdown",
   "metadata": {},
   "source": [
    "* 转置"
   ]
  },
  {
   "cell_type": "code",
   "execution_count": 15,
   "metadata": {
    "collapsed": false
   },
   "outputs": [
    {
     "name": "stdout",
     "output_type": "stream",
     "text": [
      "[[ 0.85552326  0.68728048  0.26984755]\n",
      " [ 0.26596775  0.99504862  0.89734115]]\n",
      "[[ 0.85552326  0.26596775]\n",
      " [ 0.68728048  0.99504862]\n",
      " [ 0.26984755  0.89734115]]\n"
     ]
    }
   ],
   "source": [
    "arr = np.random.rand(2,3)\n",
    "print(arr)\n",
    "print(arr.transpose())"
   ]
  },
  {
   "cell_type": "code",
   "execution_count": 16,
   "metadata": {
    "collapsed": false
   },
   "outputs": [
    {
     "name": "stdout",
     "output_type": "stream",
     "text": [
      "[[[ 0.84009694  0.42597787  0.49171572  0.2054864 ]\n",
      "  [ 0.3239181   0.96883187  0.6668831   0.340976  ]\n",
      "  [ 0.76281724  0.95786586  0.15241726  0.33309573]]\n",
      "\n",
      " [[ 0.7577724   0.5628459   0.7139561   0.66797148]\n",
      "  [ 0.95285231  0.68565026  0.4834988   0.0948594 ]\n",
      "  [ 0.15935472  0.77640512  0.91335056  0.59868325]]]\n",
      "----------------------\n",
      "[[[ 0.84009694  0.42597787  0.49171572  0.2054864 ]\n",
      "  [ 0.7577724   0.5628459   0.7139561   0.66797148]]\n",
      "\n",
      " [[ 0.3239181   0.96883187  0.6668831   0.340976  ]\n",
      "  [ 0.95285231  0.68565026  0.4834988   0.0948594 ]]\n",
      "\n",
      " [[ 0.76281724  0.95786586  0.15241726  0.33309573]\n",
      "  [ 0.15935472  0.77640512  0.91335056  0.59868325]]]\n"
     ]
    }
   ],
   "source": [
    "arr3d = np.random.rand(2,3,4)\n",
    "print(arr3d)\n",
    "print('----------------------')\n",
    "print(arr3d.transpose((1,0,2))) # 3x2x4 "
   ]
  },
  {
   "cell_type": "markdown",
   "metadata": {},
   "source": [
    "* 通用函数"
   ]
  },
  {
   "cell_type": "code",
   "execution_count": 17,
   "metadata": {
    "collapsed": false
   },
   "outputs": [
    {
     "name": "stdout",
     "output_type": "stream",
     "text": [
      "[[-1.01835745 -0.51314444 -0.24728602]\n",
      " [-0.43934979 -0.33467943  1.48863882]]\n",
      "[[-1. -0. -0.]\n",
      " [-0. -0.  2.]]\n",
      "[[-2. -1. -1.]\n",
      " [-1. -1.  1.]]\n",
      "[[-1. -1. -0.]\n",
      " [-0. -0.  1.]]\n",
      "[[False False False]\n",
      " [False False False]]\n"
     ]
    }
   ],
   "source": [
    "arr = np.random.randn(2,3)\n",
    "\n",
    "print(arr)\n",
    "print(np.ceil(arr))\n",
    "print(np.floor(arr))\n",
    "print(np.rint(arr))\n",
    "print(np.isnan(arr))"
   ]
  },
  {
   "cell_type": "markdown",
   "metadata": {},
   "source": [
    "* np.where"
   ]
  },
  {
   "cell_type": "code",
   "execution_count": 18,
   "metadata": {
    "collapsed": false
   },
   "outputs": [
    {
     "name": "stdout",
     "output_type": "stream",
     "text": [
      "[[-0.82854348  0.56950389  1.07614183 -0.0776851 ]\n",
      " [ 0.59204165  1.00040079  0.04982638  0.08904182]\n",
      " [ 1.80784253  0.46760312 -0.42034164  0.52075475]]\n"
     ]
    },
    {
     "data": {
      "text/plain": [
       "array([[-1,  1,  1, -1],\n",
       "       [ 1,  1,  1,  1],\n",
       "       [ 1,  1, -1,  1]])"
      ]
     },
     "execution_count": 18,
     "metadata": {},
     "output_type": "execute_result"
    }
   ],
   "source": [
    "arr = np.random.randn(3,4)\n",
    "print(arr)\n",
    "\n",
    "np.where(arr > 0, 1, -1)"
   ]
  },
  {
   "cell_type": "markdown",
   "metadata": {},
   "source": [
    "*  常用的统计方法"
   ]
  },
  {
   "cell_type": "code",
   "execution_count": 19,
   "metadata": {
    "collapsed": false
   },
   "outputs": [
    {
     "name": "stdout",
     "output_type": "stream",
     "text": [
      "[[0 1]\n",
      " [2 3]\n",
      " [4 5]\n",
      " [6 7]\n",
      " [8 9]]\n",
      "45\n",
      "[20 25]\n",
      "[ 1  5  9 13 17]\n"
     ]
    }
   ],
   "source": [
    "arr = np.arange(10).reshape(5,2)\n",
    "print(arr)\n",
    "\n",
    "print(np.sum(arr))\n",
    "print(np.sum(arr, axis=0))\n",
    "print(np.sum(arr, axis=1))"
   ]
  },
  {
   "cell_type": "markdown",
   "metadata": {},
   "source": [
    "* np.all 和 np.any"
   ]
  },
  {
   "cell_type": "code",
   "execution_count": 20,
   "metadata": {
    "collapsed": false
   },
   "outputs": [
    {
     "name": "stdout",
     "output_type": "stream",
     "text": [
      "[[-1.65605921  0.06656008 -0.49038012]\n",
      " [ 1.01382473  0.10583154 -1.787527  ]]\n",
      "True\n",
      "False\n"
     ]
    }
   ],
   "source": [
    "arr = np.random.randn(2,3)\n",
    "print(arr)\n",
    "\n",
    "print(np.any(arr > 0))\n",
    "print(np.all(arr > 0))"
   ]
  },
  {
   "cell_type": "markdown",
   "metadata": {},
   "source": [
    "* np.unique"
   ]
  },
  {
   "cell_type": "code",
   "execution_count": 21,
   "metadata": {
    "collapsed": false
   },
   "outputs": [
    {
     "name": "stdout",
     "output_type": "stream",
     "text": [
      "[[1 2 1]\n",
      " [2 3 4]]\n",
      "[1 2 3 4]\n"
     ]
    }
   ],
   "source": [
    "arr = np.array([[1, 2, 1], [2, 3, 4]])\n",
    "print(arr)\n",
    "print(np.unique(arr))"
   ]
  }
 ],
 "metadata": {
  "anaconda-cloud": {},
  "celltoolbar": "Raw Cell Format",
  "kernelspec": {
   "display_name": "Python 3",
   "language": "python",
   "name": "python3"
  },
  "language_info": {
   "codemirror_mode": {
    "name": "ipython",
    "version": 3
   },
   "file_extension": ".py",
   "mimetype": "text/x-python",
   "name": "python",
   "nbconvert_exporter": "python",
   "pygments_lexer": "ipython3",
   "version": "3.6.0"
  }
 },
 "nbformat": 4,
 "nbformat_minor": 1
}
