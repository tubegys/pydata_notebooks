{
 "cells": [
  {
   "cell_type": "markdown",
   "metadata": {},
   "source": [
    "## 蒙特卡洛计算圆周率pi"
   ]
  },
  {
   "cell_type": "code",
   "execution_count": null,
   "metadata": {
    "collapsed": false
   },
   "outputs": [],
   "source": [
    "from __future__ import division\n",
    "import random\n",
    "import time\n",
    "\n",
    "num = 1\n",
    "for j in range(2, 10):\n",
    "    startT = time.clock()\n",
    "    # 落入圆内计数\n",
    "    counter = 0\n",
    "    # 往正方形中扔了 10 的 j 次方次\n",
    "    for i in range(10 ** j):\n",
    "        x = random.uniform(-1, 1)\n",
    "        y = random.uniform(-1, 1)\n",
    "        # 落入了圆内\n",
    "        if x**2 + y**2 < 1:\n",
    "            counter += 1\n",
    "    endT = time.clock()\n",
    "    print(num)\n",
    "    print('pi: {0}'.format(4 * (counter / 10 ** j)))\n",
    "    print('时间:{0}'.format(endT - startT))\n",
    "    print()\n",
    "    num += 1"
   ]
  },
  {
   "cell_type": "code",
   "execution_count": null,
   "metadata": {
    "collapsed": true
   },
   "outputs": [],
   "source": []
  }
 ],
 "metadata": {
  "anaconda-cloud": {},
  "kernelspec": {
   "display_name": "Python [conda env:py35]",
   "language": "python",
   "name": "conda-env-py35-py"
  },
  "language_info": {
   "codemirror_mode": {
    "name": "ipython",
    "version": 3
   },
   "file_extension": ".py",
   "mimetype": "text/x-python",
   "name": "python",
   "nbconvert_exporter": "python",
   "pygments_lexer": "ipython3",
   "version": "3.5.2"
  }
 },
 "nbformat": 4,
 "nbformat_minor": 1
}
